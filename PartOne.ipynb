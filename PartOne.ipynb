{
 "cells": [
  {
   "cell_type": "code",
   "execution_count": null,
   "id": "a64920f2-d000-4bbb-ac7e-0fd08917b59b",
   "metadata": {},
   "outputs": [],
   "source": [
    "# 1- Create a variable called number and assign the value 5 to your new variable."
   ]
  },
  {
   "cell_type": "code",
   "execution_count": 1,
   "id": "1c2cdf63-8f67-4b73-9d69-7dc880bbc432",
   "metadata": {},
   "outputs": [],
   "source": [
    "number = 5"
   ]
  },
  {
   "cell_type": "code",
   "execution_count": 2,
   "id": "ed43b5ef-b0a7-4c13-9212-8fa9b276afe4",
   "metadata": {},
   "outputs": [],
   "source": [
    "# 2 - Delete your number variable and its value. Then, declare another variable called text and assign the string 'Hello World' to this variable."
   ]
  },
  {
   "cell_type": "code",
   "execution_count": null,
   "id": "31ef493f-0387-4f35-b9fc-9e29a8f8fbfd",
   "metadata": {},
   "outputs": [],
   "source": [
    "text = 'Hello World'"
   ]
  },
  {
   "cell_type": "code",
   "execution_count": null,
   "id": "c79e3445-0429-4d41-8e48-1334af3d542c",
   "metadata": {},
   "outputs": [],
   "source": [
    "# 3 - For now, go to a new line and add an empty call to the print() function. You should not see any output yet."
   ]
  },
  {
   "cell_type": "code",
   "execution_count": null,
   "id": "040f8487-51d9-405f-86a6-41f1ee7cf664",
   "metadata": {},
   "outputs": [],
   "source": [
    "text = 'Hello World'\n",
    "print()"
   ]
  },
  {
   "cell_type": "code",
   "execution_count": null,
   "id": "d779b908-0dd1-4fb2-a0dd-949e069bf561",
   "metadata": {},
   "outputs": [],
   "source": [
    "# 4 - Print your text variable to the screen by passing the text variable as the argument to the print() function."
   ]
  },
  {
   "cell_type": "code",
   "execution_count": 3,
   "id": "0f0c3576-d9e9-4fb2-9099-b12ceffadb74",
   "metadata": {},
   "outputs": [
    {
     "name": "stdout",
     "output_type": "stream",
     "text": [
      "Hello World\n"
     ]
    }
   ],
   "source": [
    "text = 'Hello World'\n",
    "print(text)"
   ]
  },
  {
   "cell_type": "code",
   "execution_count": null,
   "id": "5b96a20b-0ed1-4584-8118-0bf6d578a318",
   "metadata": {},
   "outputs": [],
   "source": [
    "# 5 - Now, instead of printing text, print just the character at index 6."
   ]
  },
  {
   "cell_type": "code",
   "execution_count": 4,
   "id": "26c1abd2-7005-416f-b287-879894eb753f",
   "metadata": {},
   "outputs": [
    {
     "name": "stdout",
     "output_type": "stream",
     "text": [
      "W\n"
     ]
    }
   ],
   "source": [
    "text = 'Hello World'\n",
    "print(text[6])"
   ]
  },
  {
   "cell_type": "code",
   "execution_count": null,
   "id": "ef56f974-8fbd-4549-a5bf-55c4084c1f18",
   "metadata": {},
   "outputs": [],
   "source": [
    "# 6 - Now modify your existing print() call to print the last character in your string."
   ]
  },
  {
   "cell_type": "code",
   "execution_count": 5,
   "id": "717ed694-5492-4ba0-b968-8727e637e119",
   "metadata": {},
   "outputs": [
    {
     "name": "stdout",
     "output_type": "stream",
     "text": [
      "d\n"
     ]
    }
   ],
   "source": [
    "text = 'Hello World'\n",
    "print(text[-1])"
   ]
  },
  {
   "cell_type": "code",
   "execution_count": null,
   "id": "3e8e35bc-8df7-455b-bd15-e6d8b0e2f28d",
   "metadata": {},
   "outputs": [],
   "source": [
    "# 7 - Modify your existing print() call by passing len(text) instead of text[-1]"
   ]
  },
  {
   "cell_type": "code",
   "execution_count": 6,
   "id": "3c1f6fc0-7d5a-4459-aaed-fd0b4230bd6b",
   "metadata": {},
   "outputs": [
    {
     "name": "stdout",
     "output_type": "stream",
     "text": [
      "11\n"
     ]
    }
   ],
   "source": [
    "text = 'Hello World'\n",
    "print(len(text))"
   ]
  }
 ],
 "metadata": {
  "kernelspec": {
   "display_name": "Python 3 (ipykernel)",
   "language": "python",
   "name": "python3"
  },
  "language_info": {
   "codemirror_mode": {
    "name": "ipython",
    "version": 3
   },
   "file_extension": ".py",
   "mimetype": "text/x-python",
   "name": "python",
   "nbconvert_exporter": "python",
   "pygments_lexer": "ipython3",
   "version": "3.13.4"
  }
 },
 "nbformat": 4,
 "nbformat_minor": 5
}
