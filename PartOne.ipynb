{
 "cells": [
  {
   "cell_type": "code",
   "execution_count": null,
   "id": "a64920f2-d000-4bbb-ac7e-0fd08917b59b",
   "metadata": {},
   "outputs": [],
   "source": [
    "# 1- Create a variable called number and assign the value 5 to your new variable."
   ]
  },
  {
   "cell_type": "code",
   "execution_count": 1,
   "id": "1c2cdf63-8f67-4b73-9d69-7dc880bbc432",
   "metadata": {},
   "outputs": [],
   "source": [
    "number = 5"
   ]
  },
  {
   "cell_type": "code",
   "execution_count": 2,
   "id": "ed43b5ef-b0a7-4c13-9212-8fa9b276afe4",
   "metadata": {},
   "outputs": [],
   "source": [
    "# 2 - Delete your number variable and its value. Then, declare another variable called text and assign the string 'Hello World' to this variable."
   ]
  },
  {
   "cell_type": "code",
   "execution_count": null,
   "id": "31ef493f-0387-4f35-b9fc-9e29a8f8fbfd",
   "metadata": {},
   "outputs": [],
   "source": [
    "text = 'Hello World'"
   ]
  },
  {
   "cell_type": "code",
   "execution_count": null,
   "id": "c79e3445-0429-4d41-8e48-1334af3d542c",
   "metadata": {},
   "outputs": [],
   "source": [
    "# 3 - For now, go to a new line and add an empty call to the print() function. You should not see any output yet."
   ]
  },
  {
   "cell_type": "code",
   "execution_count": null,
   "id": "040f8487-51d9-405f-86a6-41f1ee7cf664",
   "metadata": {},
   "outputs": [],
   "source": [
    "text = 'Hello World'\n",
    "print()"
   ]
  },
  {
   "cell_type": "code",
   "execution_count": null,
   "id": "d779b908-0dd1-4fb2-a0dd-949e069bf561",
   "metadata": {},
   "outputs": [],
   "source": [
    "# 4 - Print your text variable to the screen by passing the text variable as the argument to the print() function."
   ]
  },
  {
   "cell_type": "code",
   "execution_count": 3,
   "id": "0f0c3576-d9e9-4fb2-9099-b12ceffadb74",
   "metadata": {},
   "outputs": [
    {
     "name": "stdout",
     "output_type": "stream",
     "text": [
      "Hello World\n"
     ]
    }
   ],
   "source": [
    "text = 'Hello World'\n",
    "print(text)"
   ]
  },
  {
   "cell_type": "code",
   "execution_count": null,
   "id": "5b96a20b-0ed1-4584-8118-0bf6d578a318",
   "metadata": {},
   "outputs": [],
   "source": [
    "# 5 - Now, instead of printing text, print just the character at index 6."
   ]
  },
  {
   "cell_type": "code",
   "execution_count": 4,
   "id": "26c1abd2-7005-416f-b287-879894eb753f",
   "metadata": {},
   "outputs": [
    {
     "name": "stdout",
     "output_type": "stream",
     "text": [
      "W\n"
     ]
    }
   ],
   "source": [
    "text = 'Hello World'\n",
    "print(text[6])"
   ]
  },
  {
   "cell_type": "code",
   "execution_count": null,
   "id": "ef56f974-8fbd-4549-a5bf-55c4084c1f18",
   "metadata": {},
   "outputs": [],
   "source": [
    "# 6 - Now modify your existing print() call to print the last character in your string."
   ]
  },
  {
   "cell_type": "code",
   "execution_count": 5,
   "id": "717ed694-5492-4ba0-b968-8727e637e119",
   "metadata": {},
   "outputs": [
    {
     "name": "stdout",
     "output_type": "stream",
     "text": [
      "d\n"
     ]
    }
   ],
   "source": [
    "text = 'Hello World'\n",
    "print(text[-1])"
   ]
  },
  {
   "cell_type": "code",
   "execution_count": null,
   "id": "3e8e35bc-8df7-455b-bd15-e6d8b0e2f28d",
   "metadata": {},
   "outputs": [],
   "source": [
    "# 7 - Modify your existing print() call by passing len(text) instead of text[-1]"
   ]
  },
  {
   "cell_type": "code",
   "execution_count": 6,
   "id": "3c1f6fc0-7d5a-4459-aaed-fd0b4230bd6b",
   "metadata": {},
   "outputs": [
    {
     "name": "stdout",
     "output_type": "stream",
     "text": [
      "11\n"
     ]
    }
   ],
   "source": [
    "text = 'Hello World'\n",
    "print(len(text))"
   ]
  },
  {
   "cell_type": "code",
   "execution_count": null,
   "id": "3c9d61be-dfc3-43fd-9800-b405dad96fd7",
   "metadata": {},
   "outputs": [],
   "source": [
    "# 8 - Another useful built-in function is type(), which returns the data type of a variable. Modify your print() call to print the data type of text."
   ]
  },
  {
   "cell_type": "code",
   "execution_count": 1,
   "id": "fc0173df-0b14-4d2a-ba47-8bbbb2da23a2",
   "metadata": {},
   "outputs": [
    {
     "name": "stdout",
     "output_type": "stream",
     "text": [
      "<class 'str'>\n"
     ]
    }
   ],
   "source": [
    "text = 'Hello World'\n",
    "print(type(text))"
   ]
  },
  {
   "cell_type": "code",
   "execution_count": null,
   "id": "9e3b7640-bfa9-4650-be0c-1538cf8ccd87",
   "metadata": {},
   "outputs": [],
   "source": [
    "# 9 - Now go to a new line and create another variable called shift and assign the value 3 to this variable."
   ]
  },
  {
   "cell_type": "code",
   "execution_count": 2,
   "id": "48475ef8-e5a7-4a5d-8325-d233bba3877b",
   "metadata": {},
   "outputs": [
    {
     "name": "stdout",
     "output_type": "stream",
     "text": [
      "<class 'str'>\n"
     ]
    }
   ],
   "source": [
    "text = 'Hello World'\n",
    "print(type(text))\n",
    "shift = 3"
   ]
  },
  {
   "cell_type": "code",
   "execution_count": null,
   "id": "48d4d96e-0834-41a9-93bc-cdcc9115f9c8",
   "metadata": {},
   "outputs": [],
   "source": [
    "# 10 - And now print your new variable."
   ]
  },
  {
   "cell_type": "code",
   "execution_count": 3,
   "id": "f372879c-beb7-4ba6-91ec-ab59555239f5",
   "metadata": {},
   "outputs": [
    {
     "name": "stdout",
     "output_type": "stream",
     "text": [
      "<class 'str'>\n",
      "3\n"
     ]
    }
   ],
   "source": [
    "text = 'Hello World'\n",
    "print(type(text))\n",
    "shift = 3\n",
    "print(shift)"
   ]
  },
  {
   "cell_type": "code",
   "execution_count": null,
   "id": "208abc41-68bd-4497-8414-7131eae9697c",
   "metadata": {},
   "outputs": [],
   "source": [
    "# 11 - Modify your print(shift) call to print the data type of your shift variable."
   ]
  },
  {
   "cell_type": "code",
   "execution_count": 4,
   "id": "1775a1ba-bb72-4799-b28b-df8d4632e0b5",
   "metadata": {},
   "outputs": [
    {
     "name": "stdout",
     "output_type": "stream",
     "text": [
      "<class 'str'>\n",
      "<class 'int'>\n"
     ]
    }
   ],
   "source": [
    "text = 'Hello World'\n",
    "print(type(text))\n",
    "shift = 3\n",
    "print(type(shift))"
   ]
  },
  {
   "cell_type": "code",
   "execution_count": null,
   "id": "9a021209-0adb-4612-8588-5a34a929ba63",
   "metadata": {},
   "outputs": [],
   "source": [
    "# 12 - Remove both calls to print() and declare another variable called alphabet. Assign the string 'abcdefghijklmnopqrstuvwxyz' to this variable."
   ]
  },
  {
   "cell_type": "code",
   "execution_count": null,
   "id": "8c6b70b9-8c53-45e5-929d-b743826eff1b",
   "metadata": {},
   "outputs": [],
   "source": [
    "alphabet = 'abcdefghijklmnopqrstuvwxyz'"
   ]
  },
  {
   "cell_type": "code",
   "execution_count": null,
   "id": "c4bdf6da-4dab-4003-a1db-5dcb1ec2b78c",
   "metadata": {},
   "outputs": [],
   "source": [
    "# 13 - At the end of your code, call .find() on alphabet and pass 'z' as the argument to the method."
   ]
  },
  {
   "cell_type": "code",
   "execution_count": 7,
   "id": "e03d62e6-838b-4218-a92f-6356efd31877",
   "metadata": {},
   "outputs": [
    {
     "data": {
      "text/plain": [
       "25"
      ]
     },
     "execution_count": 7,
     "metadata": {},
     "output_type": "execute_result"
    }
   ],
   "source": [
    "text = 'Hello World'\n",
    "shift = 3\n",
    "alphabet = 'abcdefghijklmnopqrstuvwxyz'\n",
    "alphabet.find('z')"
   ]
  },
  {
   "cell_type": "code",
   "execution_count": null,
   "id": "21c7f2ca-86ab-4633-9cfc-6ddb9d49417c",
   "metadata": {},
   "outputs": [],
   "source": [
    "# 14 - The first kind of cipher you are going to build is called a Caesar cipher. Specifically, you will take each letter in your message, find its position in the alphabet, take the letter located after 3 positions in the alphabet, and replace the original letter with the new letter."
   ]
  },
  {
   "cell_type": "code",
   "execution_count": 10,
   "id": "5f8a0871-ccc8-4fe8-94b9-4a76e8321885",
   "metadata": {},
   "outputs": [
    {
     "data": {
      "text/plain": [
       "-1"
      ]
     },
     "execution_count": 10,
     "metadata": {},
     "output_type": "execute_result"
    }
   ],
   "source": [
    "alphabet = 'abcdefghijklmnopqrstuvwxyz'\n",
    "alphabet.find(text[0])"
   ]
  },
  {
   "cell_type": "code",
   "execution_count": null,
   "id": "943b91d7-656b-4105-8f4f-4b08ef790bca",
   "metadata": {},
   "outputs": [],
   "source": [
    "# 15 - Now assign alphabet.find(text[0]) to a variable named index. In this way, index will store the value returned by alphabet.find(text[0])."
   ]
  },
  {
   "cell_type": "code",
   "execution_count": null,
   "id": "28382440-7efb-435a-9bdf-433bafec7756",
   "metadata": {},
   "outputs": [],
   "source": [
    "text = 'Hello World'\n",
    "shift = 3\n",
    "alphabet = 'abcdefghijklmnopqrstuvwxyz'\n",
    "index = alphabet.find(text[0])"
   ]
  }
 ],
 "metadata": {
  "kernelspec": {
   "display_name": "Python 3 (ipykernel)",
   "language": "python",
   "name": "python3"
  },
  "language_info": {
   "codemirror_mode": {
    "name": "ipython",
    "version": 3
   },
   "file_extension": ".py",
   "mimetype": "text/x-python",
   "name": "python",
   "nbconvert_exporter": "python",
   "pygments_lexer": "ipython3",
   "version": "3.13.4"
  }
 },
 "nbformat": 4,
 "nbformat_minor": 5
}
