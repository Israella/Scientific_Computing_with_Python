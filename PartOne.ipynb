{
 "cells": [
  {
   "cell_type": "code",
   "execution_count": null,
   "id": "a64920f2-d000-4bbb-ac7e-0fd08917b59b",
   "metadata": {},
   "outputs": [],
   "source": [
    "# 1- Create a variable called number and assign the value 5 to your new variable."
   ]
  },
  {
   "cell_type": "code",
   "execution_count": 1,
   "id": "1c2cdf63-8f67-4b73-9d69-7dc880bbc432",
   "metadata": {},
   "outputs": [],
   "source": [
    "number = 5"
   ]
  },
  {
   "cell_type": "code",
   "execution_count": 2,
   "id": "ed43b5ef-b0a7-4c13-9212-8fa9b276afe4",
   "metadata": {},
   "outputs": [],
   "source": [
    "# 2 - Delete your number variable and its value. Then, declare another variable called text and assign the string 'Hello World' to this variable."
   ]
  },
  {
   "cell_type": "code",
   "execution_count": null,
   "id": "31ef493f-0387-4f35-b9fc-9e29a8f8fbfd",
   "metadata": {},
   "outputs": [],
   "source": [
    "text = 'Hello World'"
   ]
  },
  {
   "cell_type": "code",
   "execution_count": null,
   "id": "c79e3445-0429-4d41-8e48-1334af3d542c",
   "metadata": {},
   "outputs": [],
   "source": [
    "# 3 - For now, go to a new line and add an empty call to the print() function. You should not see any output yet."
   ]
  },
  {
   "cell_type": "code",
   "execution_count": null,
   "id": "040f8487-51d9-405f-86a6-41f1ee7cf664",
   "metadata": {},
   "outputs": [],
   "source": [
    "text = 'Hello World'\n",
    "print()"
   ]
  },
  {
   "cell_type": "code",
   "execution_count": null,
   "id": "d779b908-0dd1-4fb2-a0dd-949e069bf561",
   "metadata": {},
   "outputs": [],
   "source": [
    "# 4 - Print your text variable to the screen by passing the text variable as the argument to the print() function."
   ]
  },
  {
   "cell_type": "code",
   "execution_count": 3,
   "id": "0f0c3576-d9e9-4fb2-9099-b12ceffadb74",
   "metadata": {},
   "outputs": [
    {
     "name": "stdout",
     "output_type": "stream",
     "text": [
      "Hello World\n"
     ]
    }
   ],
   "source": [
    "text = 'Hello World'\n",
    "print(text)"
   ]
  },
  {
   "cell_type": "code",
   "execution_count": null,
   "id": "5b96a20b-0ed1-4584-8118-0bf6d578a318",
   "metadata": {},
   "outputs": [],
   "source": [
    "# 5 - Now, instead of printing text, print just the character at index 6."
   ]
  },
  {
   "cell_type": "code",
   "execution_count": 4,
   "id": "26c1abd2-7005-416f-b287-879894eb753f",
   "metadata": {},
   "outputs": [
    {
     "name": "stdout",
     "output_type": "stream",
     "text": [
      "W\n"
     ]
    }
   ],
   "source": [
    "text = 'Hello World'\n",
    "print(text[6])"
   ]
  },
  {
   "cell_type": "code",
   "execution_count": null,
   "id": "ef56f974-8fbd-4549-a5bf-55c4084c1f18",
   "metadata": {},
   "outputs": [],
   "source": [
    "# 6 - Now modify your existing print() call to print the last character in your string."
   ]
  },
  {
   "cell_type": "code",
   "execution_count": 5,
   "id": "717ed694-5492-4ba0-b968-8727e637e119",
   "metadata": {},
   "outputs": [
    {
     "name": "stdout",
     "output_type": "stream",
     "text": [
      "d\n"
     ]
    }
   ],
   "source": [
    "text = 'Hello World'\n",
    "print(text[-1])"
   ]
  },
  {
   "cell_type": "code",
   "execution_count": null,
   "id": "3e8e35bc-8df7-455b-bd15-e6d8b0e2f28d",
   "metadata": {},
   "outputs": [],
   "source": [
    "# 7 - Modify your existing print() call by passing len(text) instead of text[-1]"
   ]
  },
  {
   "cell_type": "code",
   "execution_count": 6,
   "id": "3c1f6fc0-7d5a-4459-aaed-fd0b4230bd6b",
   "metadata": {},
   "outputs": [
    {
     "name": "stdout",
     "output_type": "stream",
     "text": [
      "11\n"
     ]
    }
   ],
   "source": [
    "text = 'Hello World'\n",
    "print(len(text))"
   ]
  },
  {
   "cell_type": "code",
   "execution_count": null,
   "id": "3c9d61be-dfc3-43fd-9800-b405dad96fd7",
   "metadata": {},
   "outputs": [],
   "source": [
    "# 8 - Another useful built-in function is type(), which returns the data type of a variable. Modify your print() call to print the data type of text."
   ]
  },
  {
   "cell_type": "code",
   "execution_count": 1,
   "id": "fc0173df-0b14-4d2a-ba47-8bbbb2da23a2",
   "metadata": {},
   "outputs": [
    {
     "name": "stdout",
     "output_type": "stream",
     "text": [
      "<class 'str'>\n"
     ]
    }
   ],
   "source": [
    "text = 'Hello World'\n",
    "print(type(text))"
   ]
  },
  {
   "cell_type": "code",
   "execution_count": null,
   "id": "9e3b7640-bfa9-4650-be0c-1538cf8ccd87",
   "metadata": {},
   "outputs": [],
   "source": [
    "# 9 - Now go to a new line and create another variable called shift and assign the value 3 to this variable."
   ]
  },
  {
   "cell_type": "code",
   "execution_count": 2,
   "id": "48475ef8-e5a7-4a5d-8325-d233bba3877b",
   "metadata": {},
   "outputs": [
    {
     "name": "stdout",
     "output_type": "stream",
     "text": [
      "<class 'str'>\n"
     ]
    }
   ],
   "source": [
    "text = 'Hello World'\n",
    "print(type(text))\n",
    "shift = 3"
   ]
  },
  {
   "cell_type": "code",
   "execution_count": null,
   "id": "48d4d96e-0834-41a9-93bc-cdcc9115f9c8",
   "metadata": {},
   "outputs": [],
   "source": [
    "# 10 - And now print your new variable."
   ]
  },
  {
   "cell_type": "code",
   "execution_count": 3,
   "id": "f372879c-beb7-4ba6-91ec-ab59555239f5",
   "metadata": {},
   "outputs": [
    {
     "name": "stdout",
     "output_type": "stream",
     "text": [
      "<class 'str'>\n",
      "3\n"
     ]
    }
   ],
   "source": [
    "text = 'Hello World'\n",
    "print(type(text))\n",
    "shift = 3\n",
    "print(shift)"
   ]
  },
  {
   "cell_type": "code",
   "execution_count": null,
   "id": "208abc41-68bd-4497-8414-7131eae9697c",
   "metadata": {},
   "outputs": [],
   "source": [
    "# 11 - Modify your print(shift) call to print the data type of your shift variable."
   ]
  },
  {
   "cell_type": "code",
   "execution_count": 4,
   "id": "1775a1ba-bb72-4799-b28b-df8d4632e0b5",
   "metadata": {},
   "outputs": [
    {
     "name": "stdout",
     "output_type": "stream",
     "text": [
      "<class 'str'>\n",
      "<class 'int'>\n"
     ]
    }
   ],
   "source": [
    "text = 'Hello World'\n",
    "print(type(text))\n",
    "shift = 3\n",
    "print(type(shift))"
   ]
  },
  {
   "cell_type": "code",
   "execution_count": null,
   "id": "9a021209-0adb-4612-8588-5a34a929ba63",
   "metadata": {},
   "outputs": [],
   "source": [
    "# 12 - Remove both calls to print() and declare another variable called alphabet. Assign the string 'abcdefghijklmnopqrstuvwxyz' to this variable."
   ]
  },
  {
   "cell_type": "code",
   "execution_count": null,
   "id": "8c6b70b9-8c53-45e5-929d-b743826eff1b",
   "metadata": {},
   "outputs": [],
   "source": [
    "alphabet = 'abcdefghijklmnopqrstuvwxyz'"
   ]
  },
  {
   "cell_type": "code",
   "execution_count": null,
   "id": "c4bdf6da-4dab-4003-a1db-5dcb1ec2b78c",
   "metadata": {},
   "outputs": [],
   "source": [
    "# 13 - At the end of your code, call .find() on alphabet and pass 'z' as the argument to the method."
   ]
  },
  {
   "cell_type": "code",
   "execution_count": 7,
   "id": "e03d62e6-838b-4218-a92f-6356efd31877",
   "metadata": {},
   "outputs": [
    {
     "data": {
      "text/plain": [
       "25"
      ]
     },
     "execution_count": 7,
     "metadata": {},
     "output_type": "execute_result"
    }
   ],
   "source": [
    "text = 'Hello World'\n",
    "shift = 3\n",
    "alphabet = 'abcdefghijklmnopqrstuvwxyz'\n",
    "alphabet.find('z')"
   ]
  },
  {
   "cell_type": "code",
   "execution_count": null,
   "id": "21c7f2ca-86ab-4633-9cfc-6ddb9d49417c",
   "metadata": {},
   "outputs": [],
   "source": [
    "# 14 - The first kind of cipher you are going to build is called a Caesar cipher. Specifically, you will take each letter in your message, find its position in the alphabet, take the letter located after 3 positions in the alphabet, and replace the original letter with the new letter."
   ]
  },
  {
   "cell_type": "code",
   "execution_count": 10,
   "id": "5f8a0871-ccc8-4fe8-94b9-4a76e8321885",
   "metadata": {},
   "outputs": [
    {
     "data": {
      "text/plain": [
       "-1"
      ]
     },
     "execution_count": 10,
     "metadata": {},
     "output_type": "execute_result"
    }
   ],
   "source": [
    "alphabet = 'abcdefghijklmnopqrstuvwxyz'\n",
    "alphabet.find(text[0])"
   ]
  },
  {
   "cell_type": "code",
   "execution_count": null,
   "id": "943b91d7-656b-4105-8f4f-4b08ef790bca",
   "metadata": {},
   "outputs": [],
   "source": [
    "# 15 - Now assign alphabet.find(text[0]) to a variable named index. In this way, index will store the value returned by alphabet.find(text[0])."
   ]
  },
  {
   "cell_type": "code",
   "execution_count": null,
   "id": "28382440-7efb-435a-9bdf-433bafec7756",
   "metadata": {},
   "outputs": [],
   "source": [
    "text = 'Hello World'\n",
    "shift = 3\n",
    "alphabet = 'abcdefghijklmnopqrstuvwxyz'\n",
    "index = alphabet.find(text[0])"
   ]
  },
  {
   "cell_type": "code",
   "execution_count": null,
   "id": "32e725a3-dbe9-4f51-9de4-12f224e48b9d",
   "metadata": {},
   "outputs": [],
   "source": [
    "# 16 - Next, print the index variable to the console."
   ]
  },
  {
   "cell_type": "code",
   "execution_count": null,
   "id": "a6ab88e9-0988-4fda-8770-8dce37789893",
   "metadata": {},
   "outputs": [],
   "source": [
    "text = 'Hello World'\n",
    "shift = 3\n",
    "alphabet = 'abcdefghijklmnopqrstuvwxyz'\n",
    "index = alphabet.find(text[0])\n",
    "print(index)"
   ]
  },
  {
   "cell_type": "code",
   "execution_count": null,
   "id": "577f3fc2-1739-4e04-b2d0-eb0248a345ca",
   "metadata": {},
   "outputs": [],
   "source": [
    "# 17 - You can transform a string into its lowercase equivalent with the .lower() method. Add another print() call to print text.lower() and see the output."
   ]
  },
  {
   "cell_type": "code",
   "execution_count": 1,
   "id": "e299d931-9e47-4841-82cf-ecebbf434898",
   "metadata": {},
   "outputs": [
    {
     "name": "stdout",
     "output_type": "stream",
     "text": [
      "-1\n",
      "hello world\n"
     ]
    }
   ],
   "source": [
    "text = 'Hello World'\n",
    "shift = 3\n",
    "alphabet = 'abcdefghijklmnopqrstuvwxyz'\n",
    "index = alphabet.find(text[0])\n",
    "print(index)\n",
    "print(text.lower())"
   ]
  },
  {
   "cell_type": "code",
   "execution_count": null,
   "id": "9afa668c-9885-42c2-9c7e-4b3846476d7e",
   "metadata": {},
   "outputs": [],
   "source": [
    "# 18 - Remove the last print() call. Then, instead of text[0], pass text[0].lower() as the argument to your .find() call and see the output"
   ]
  },
  {
   "cell_type": "code",
   "execution_count": 2,
   "id": "efda19b5-6a2f-4572-a803-f93371cbd029",
   "metadata": {},
   "outputs": [
    {
     "name": "stdout",
     "output_type": "stream",
     "text": [
      "7\n"
     ]
    }
   ],
   "source": [
    "text = 'Hello World'\n",
    "shift = 3\n",
    "alphabet = 'abcdefghijklmnopqrstuvwxyz'\n",
    "index = alphabet.find(text[0].lower())\n",
    "print(index)"
   ]
  },
  {
   "cell_type": "code",
   "execution_count": null,
   "id": "755a7b43-cff2-4704-821c-2e9e85e27f87",
   "metadata": {},
   "outputs": [],
   "source": [
    "# 19 - Declare a new variable named shifted. Use the bracket notation to access the value of alphabet at index index and assign it to your new variable."
   ]
  },
  {
   "cell_type": "code",
   "execution_count": 3,
   "id": "170c29fe-f503-44f0-8bc9-95eaf849e1a8",
   "metadata": {},
   "outputs": [
    {
     "name": "stdout",
     "output_type": "stream",
     "text": [
      "7\n"
     ]
    }
   ],
   "source": [
    "text = 'Hello World'\n",
    "shift = 3\n",
    "alphabet = 'abcdefghijklmnopqrstuvwxyz'\n",
    "index = alphabet.find(text[0].lower())\n",
    "print(index)\n",
    "shifted = alphabet[index]"
   ]
  },
  {
   "cell_type": "code",
   "execution_count": null,
   "id": "6c3b09c8-ea5b-4772-816a-12f2e3297412",
   "metadata": {},
   "outputs": [],
   "source": [
    "# 20 - Print your shifted variable"
   ]
  },
  {
   "cell_type": "code",
   "execution_count": 4,
   "id": "fbd82a59-c1f8-4155-a0a9-a02064c57942",
   "metadata": {},
   "outputs": [
    {
     "name": "stdout",
     "output_type": "stream",
     "text": [
      "7\n",
      "h\n"
     ]
    }
   ],
   "source": [
    "text = 'Hello World'\n",
    "shift = 3\n",
    "alphabet = 'abcdefghijklmnopqrstuvwxyz'\n",
    "index = alphabet.find(text[0].lower())\n",
    "print(index)\n",
    "shifted = alphabet[index]\n",
    "print (shifted)"
   ]
  },
  {
   "cell_type": "code",
   "execution_count": null,
   "id": "7b9ac665-4aa7-4727-b5e0-ee4e95f4adc6",
   "metadata": {},
   "outputs": [],
   "source": [
    "# 21 - Now you need to find the letter at index 7 plus the value of shift. Modify your shifted variable so that it stores the value of alphabet at index index + shift."
   ]
  },
  {
   "cell_type": "code",
   "execution_count": 5,
   "id": "1f75b161-7158-43d5-b905-49afd1f989a4",
   "metadata": {},
   "outputs": [
    {
     "name": "stdout",
     "output_type": "stream",
     "text": [
      "7\n",
      "k\n"
     ]
    }
   ],
   "source": [
    "text = 'Hello World'\n",
    "shift = 3\n",
    "alphabet = 'abcdefghijklmnopqrstuvwxyz'\n",
    "index = alphabet.find(text[0].lower())\n",
    "print(index)\n",
    "shifted = alphabet[index + shift]\n",
    "print(shifted)"
   ]
  },
  {
   "cell_type": "code",
   "execution_count": null,
   "id": "ef53403c-c717-4f80-9949-d93775bd4cc3",
   "metadata": {},
   "outputs": [],
   "source": [
    "# 22 - For now, remove all the lines of code below the declaration of the alphabet variable."
   ]
  },
  {
   "cell_type": "code",
   "execution_count": 6,
   "id": "e3a5d092-18a5-4994-96c3-49da63a4df57",
   "metadata": {},
   "outputs": [],
   "source": [
    "text = 'Hello World'\n",
    "shift = 3\n",
    "alphabet = 'abcdefghijklmnopqrstuvwxyz'"
   ]
  },
  {
   "cell_type": "code",
   "execution_count": null,
   "id": "3ace4ed8-e1ae-4bf7-acea-0ccf3bdf5c06",
   "metadata": {},
   "outputs": [],
   "source": [
    "# 23 - Below the line where you declared alphabet, write a for loop to iterate over text. Use i as the loop variable. Doing so, there is an error in the terminal. You will learn about it in the next step."
   ]
  },
  {
   "cell_type": "code",
   "execution_count": 7,
   "id": "a2cfbe89-58c3-4450-bc27-6000330c5b9f",
   "metadata": {},
   "outputs": [
    {
     "ename": "_IncompleteInputError",
     "evalue": "incomplete input (1304433245.py, line 4)",
     "output_type": "error",
     "traceback": [
      "  \u001b[36mCell\u001b[39m\u001b[36m \u001b[39m\u001b[32mIn[7]\u001b[39m\u001b[32m, line 4\u001b[39m\n\u001b[31m    \u001b[39m\u001b[31mfor i in text:\u001b[39m\n                  ^\n\u001b[31m_IncompleteInputError\u001b[39m\u001b[31m:\u001b[39m incomplete input\n"
     ]
    }
   ],
   "source": [
    "text = 'Hello World'\n",
    "shift = 3\n",
    "alphabet = 'abcdefghijklmnopqrstuvwxyz'\n",
    "for i in text:"
   ]
  },
  {
   "cell_type": "code",
   "execution_count": null,
   "id": "8f9661cd-c994-401a-9b50-7bf090007f4f",
   "metadata": {},
   "outputs": [],
   "source": [
    "# 24 - Give your for loop a body by adding a call to print(i). Remember to indent the loop body."
   ]
  },
  {
   "cell_type": "code",
   "execution_count": 8,
   "id": "3b8f6c40-79cf-4732-af74-7384574c1c63",
   "metadata": {},
   "outputs": [
    {
     "name": "stdout",
     "output_type": "stream",
     "text": [
      "H\n",
      "e\n",
      "l\n",
      "l\n",
      "o\n",
      " \n",
      "W\n",
      "o\n",
      "r\n",
      "l\n",
      "d\n"
     ]
    }
   ],
   "source": [
    "text = 'Hello World'\n",
    "shift = 3\n",
    "alphabet = 'abcdefghijklmnopqrstuvwxyz'\n",
    "\n",
    "for i in text:\n",
    "    print(i)"
   ]
  },
  {
   "cell_type": "code",
   "execution_count": null,
   "id": "f8b87cdc-4a78-4c3f-a7da-bd57e1d69cb9",
   "metadata": {},
   "outputs": [],
   "source": [
    "# 25 - Rename your i variable to char."
   ]
  },
  {
   "cell_type": "code",
   "execution_count": 9,
   "id": "58da69ca-2eb3-46f5-b4f8-dfc461552a33",
   "metadata": {},
   "outputs": [
    {
     "name": "stdout",
     "output_type": "stream",
     "text": [
      "H\n",
      "e\n",
      "l\n",
      "l\n",
      "o\n",
      " \n",
      "W\n",
      "o\n",
      "r\n",
      "l\n",
      "d\n"
     ]
    }
   ],
   "source": [
    "for char in text:\n",
    "    print(char)"
   ]
  },
  {
   "cell_type": "code",
   "execution_count": null,
   "id": "fe742772-88a2-4f1b-b46d-58c349226f4a",
   "metadata": {},
   "outputs": [],
   "source": [
    "# 26 - Inside the for loop, before printing the current character, declare a variable called index and assign the value returned by alphabet.find(char) to this variable."
   ]
  },
  {
   "cell_type": "code",
   "execution_count": 10,
   "id": "b5720b5d-1010-4b4b-9539-ecbada421e2d",
   "metadata": {},
   "outputs": [
    {
     "name": "stdout",
     "output_type": "stream",
     "text": [
      "H\n",
      "e\n",
      "l\n",
      "l\n",
      "o\n",
      " \n",
      "W\n",
      "o\n",
      "r\n",
      "l\n",
      "d\n"
     ]
    }
   ],
   "source": [
    "for char in text:\n",
    "    index = alphabet.find(char)\n",
    "    print(char)"
   ]
  },
  {
   "cell_type": "code",
   "execution_count": null,
   "id": "2861d754-4b80-4b05-81b2-9f67c9b536a6",
   "metadata": {},
   "outputs": [],
   "source": [
    "# 27 - Add a second argument to print(char) so that it prints the character and its index inside the alphabet."
   ]
  },
  {
   "cell_type": "code",
   "execution_count": 11,
   "id": "0bd98e11-fdad-4a5c-a24f-fd79ce594139",
   "metadata": {},
   "outputs": [
    {
     "name": "stdout",
     "output_type": "stream",
     "text": [
      "H -1\n",
      "e 4\n",
      "l 11\n",
      "l 11\n",
      "o 14\n",
      "  -1\n",
      "W -1\n",
      "o 14\n",
      "r 17\n",
      "l 11\n",
      "d 3\n"
     ]
    }
   ],
   "source": [
    "text = 'Hello World'\n",
    "shift = 3\n",
    "alphabet = 'abcdefghijklmnopqrstuvwxyz'\n",
    "\n",
    "for char in text:\n",
    "    index = alphabet.find(char)\n",
    "    print(char, index)"
   ]
  },
  {
   "cell_type": "code",
   "execution_count": null,
   "id": "25615053-f0b5-4f28-b07f-e748a86237ee",
   "metadata": {},
   "outputs": [],
   "source": [
    "# 28 - For now, instead of iterating over text, change the for loop to iterate over text.lower()."
   ]
  },
  {
   "cell_type": "code",
   "execution_count": 12,
   "id": "8591eece-b94f-4c11-9c21-a5a1ebe4a63c",
   "metadata": {},
   "outputs": [
    {
     "name": "stdout",
     "output_type": "stream",
     "text": [
      "h 7\n",
      "e 4\n",
      "l 11\n",
      "l 11\n",
      "o 14\n",
      "  -1\n",
      "w 22\n",
      "o 14\n",
      "r 17\n",
      "l 11\n",
      "d 3\n"
     ]
    }
   ],
   "source": [
    "text = 'Hello World'\n",
    "shift = 3\n",
    "alphabet = 'abcdefghijklmnopqrstuvwxyz'\n",
    "\n",
    "for char in text.lower():\n",
    "    index = alphabet.find(char)\n",
    "    print(char, index)"
   ]
  },
  {
   "cell_type": "code",
   "execution_count": null,
   "id": "9db4d294-6d0c-46ef-9c0b-c7885aa6f13d",
   "metadata": {},
   "outputs": [],
   "source": [
    "# 29 - At the end of your loop body, declare a variable called new_index and assign the value of index + shift to this variable."
   ]
  },
  {
   "cell_type": "code",
   "execution_count": null,
   "id": "24360ae2-a942-47df-b7b4-d0fc913131d1",
   "metadata": {},
   "outputs": [],
   "source": [
    "text = 'Hello World'\n",
    "shift = 3\n",
    "alphabet = 'abcdefghijklmnopqrstuvwxyz'\n",
    "\n",
    "for char in text.lower():\n",
    "    index = alphabet.find(char)\n",
    "    print(char, index)\n",
    "    new_index = index + shift"
   ]
  },
  {
   "cell_type": "code",
   "execution_count": null,
   "id": "0fc5d5bf-a20e-4e64-8efc-3c712f5e37d4",
   "metadata": {},
   "outputs": [],
   "source": [
    "# 30 - Confirm that by using the bracket notation to access the first letter in text and try to change it into a character of your choice. You will see the ouput disappear and an error appear."
   ]
  },
  {
   "cell_type": "code",
   "execution_count": 13,
   "id": "b30d6081-f3cc-40cc-9b61-7d1e5e9256f7",
   "metadata": {},
   "outputs": [
    {
     "ename": "TypeError",
     "evalue": "'str' object does not support item assignment",
     "output_type": "error",
     "traceback": [
      "\u001b[31m---------------------------------------------------------------------------\u001b[39m",
      "\u001b[31mTypeError\u001b[39m                                 Traceback (most recent call last)",
      "\u001b[36mCell\u001b[39m\u001b[36m \u001b[39m\u001b[32mIn[13]\u001b[39m\u001b[32m, line 2\u001b[39m\n\u001b[32m      1\u001b[39m text = \u001b[33m'\u001b[39m\u001b[33mHello World\u001b[39m\u001b[33m'\u001b[39m\n\u001b[32m----> \u001b[39m\u001b[32m2\u001b[39m \u001b[43mtext\u001b[49m\u001b[43m[\u001b[49m\u001b[32;43m0\u001b[39;49m\u001b[43m]\u001b[49m = \u001b[33m'\u001b[39m\u001b[33mj\u001b[39m\u001b[33m'\u001b[39m\n",
      "\u001b[31mTypeError\u001b[39m: 'str' object does not support item assignment"
     ]
    }
   ],
   "source": [
    "text = 'Hello World'\n",
    "text[0] = 'j'"
   ]
  },
  {
   "cell_type": "code",
   "execution_count": null,
   "id": "c17c593a-6987-4752-af41-e960bc68fd64",
   "metadata": {},
   "outputs": [],
   "source": [
    "# 31 - "
   ]
  },
  {
   "cell_type": "code",
   "execution_count": null,
   "id": "c51d42bf-b0ea-4a7c-88de-f78750b3fe6d",
   "metadata": {},
   "outputs": [],
   "source": []
  },
  {
   "cell_type": "code",
   "execution_count": null,
   "id": "276fa4fc-e76f-40a6-b389-a68505ef7b5b",
   "metadata": {},
   "outputs": [],
   "source": [
    "# 32"
   ]
  },
  {
   "cell_type": "code",
   "execution_count": null,
   "id": "1b5b240d-9854-4e0b-ba2c-748238ee08c2",
   "metadata": {},
   "outputs": [],
   "source": []
  }
 ],
 "metadata": {
  "kernelspec": {
   "display_name": "Python 3 (ipykernel)",
   "language": "python",
   "name": "python3"
  },
  "language_info": {
   "codemirror_mode": {
    "name": "ipython",
    "version": 3
   },
   "file_extension": ".py",
   "mimetype": "text/x-python",
   "name": "python",
   "nbconvert_exporter": "python",
   "pygments_lexer": "ipython3",
   "version": "3.13.4"
  }
 },
 "nbformat": 4,
 "nbformat_minor": 5
}
