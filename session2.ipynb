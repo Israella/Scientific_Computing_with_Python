{
 "cells": [
  {
   "cell_type": "code",
   "execution_count": 1,
   "id": "99e6919b-e51f-44ec-82f2-9b62329fb4e3",
   "metadata": {},
   "outputs": [],
   "source": [
    "# 32 - Go back to the original string by deleting the text reassignment."
   ]
  },
  {
   "cell_type": "code",
   "execution_count": 2,
   "id": "5964a541-fc4f-42eb-b777-aa5fc265fe8a",
   "metadata": {},
   "outputs": [],
   "source": [
    "text = 'Hello World'"
   ]
  },
  {
   "cell_type": "code",
   "execution_count": 3,
   "id": "08e13536-1f61-423a-810b-29b4ac5e5346",
   "metadata": {},
   "outputs": [],
   "source": [
    "# 33 - Now you need to create a new_char variable at the end of your loop body. Set its value to alphabet[new_index]."
   ]
  },
  {
   "cell_type": "code",
   "execution_count": 4,
   "id": "1bc0b1d7-7160-4d03-bc4b-0b5140c93a4e",
   "metadata": {},
   "outputs": [
    {
     "name": "stdout",
     "output_type": "stream",
     "text": [
      "h 7\n",
      "e 4\n",
      "l 11\n",
      "l 11\n",
      "o 14\n",
      "  -1\n",
      "w 22\n",
      "o 14\n",
      "r 17\n",
      "l 11\n",
      "d 3\n"
     ]
    }
   ],
   "source": [
    "text = 'Hello World'\n",
    "shift = 3\n",
    "alphabet = 'abcdefghijklmnopqrstuvwxyz'\n",
    "\n",
    "for char in text.lower():\n",
    "    index = alphabet.find(char)\n",
    "    print(char, index)\n",
    "    new_index = index + shift\n",
    "    new_char = alphabet[new_index]"
   ]
  },
  {
   "cell_type": "code",
   "execution_count": null,
   "id": "50e93446-3d93-4204-a6f2-a10eaa16a98b",
   "metadata": {},
   "outputs": [],
   "source": [
    "# 34 - Next, print new_char and see the output."
   ]
  },
  {
   "cell_type": "code",
   "execution_count": 1,
   "id": "8a8ecf0b-aa32-4e63-b50a-6c3c6c915942",
   "metadata": {},
   "outputs": [
    {
     "name": "stdout",
     "output_type": "stream",
     "text": [
      "h 7\n",
      "k\n",
      "e 4\n",
      "h\n",
      "l 11\n",
      "o\n",
      "l 11\n",
      "o\n",
      "o 14\n",
      "r\n",
      "  -1\n",
      "c\n",
      "w 22\n",
      "z\n",
      "o 14\n",
      "r\n",
      "r 17\n",
      "u\n",
      "l 11\n",
      "o\n",
      "d 3\n",
      "g\n"
     ]
    }
   ],
   "source": [
    "text = 'Hello World'\n",
    "shift = 3\n",
    "alphabet = 'abcdefghijklmnopqrstuvwxyz'\n",
    "\n",
    "for char in text.lower():\n",
    "    index = alphabet.find(char)\n",
    "    print(char, index)\n",
    "    new_index = index + shift\n",
    "    new_char = alphabet[new_index]\n",
    "    print(new_char)"
   ]
  },
  {
   "cell_type": "code",
   "execution_count": null,
   "id": "67791b51-e7b6-44ef-9311-1f0d1d4b2f70",
   "metadata": {},
   "outputs": [],
   "source": [
    "# 35 - Clean the output a bit. Delete print(char, index), and turn the last print() call into print('char:', char, 'new char:', new_char)."
   ]
  },
  {
   "cell_type": "code",
   "execution_count": 2,
   "id": "954d9d15-7f48-4afa-bd42-6e324a3e67c5",
   "metadata": {},
   "outputs": [
    {
     "name": "stdout",
     "output_type": "stream",
     "text": [
      "char: h new char: k\n",
      "char: e new char: h\n",
      "char: l new char: o\n",
      "char: l new char: o\n",
      "char: o new char: r\n",
      "char:   new char: c\n",
      "char: w new char: z\n",
      "char: o new char: r\n",
      "char: r new char: u\n",
      "char: l new char: o\n",
      "char: d new char: g\n"
     ]
    }
   ],
   "source": [
    "text = 'Hello World'\n",
    "shift = 3\n",
    "alphabet = 'abcdefghijklmnopqrstuvwxyz'\n",
    "\n",
    "for char in text.lower():\n",
    "    index = alphabet.find(char)\n",
    "    new_index = index + shift\n",
    "    new_char = alphabet[new_index]\n",
    "    print('char:', char,'new char:', new_char)"
   ]
  },
  {
   "cell_type": "code",
   "execution_count": null,
   "id": "d5b62d29-f801-4ae7-8f1f-37cdd3d03d95",
   "metadata": {},
   "outputs": [],
   "source": [
    "# 36 - At the moment, the encrypted character is updated in every iteration. It would be better to store the encrypted string in a new variable. Before your for loop, declare a variable called encrypted_text and assign an empty string ('') to this variable."
   ]
  },
  {
   "cell_type": "code",
   "execution_count": 1,
   "id": "8418a1a7-0d47-4908-bf04-1c9e3c8b195e",
   "metadata": {},
   "outputs": [
    {
     "name": "stdout",
     "output_type": "stream",
     "text": [
      "char: h new char: k\n",
      "char: e new char: h\n",
      "char: l new char: o\n",
      "char: l new char: o\n",
      "char: o new char: r\n",
      "char:   new char: c\n",
      "char: w new char: z\n",
      "char: o new char: r\n",
      "char: r new char: u\n",
      "char: l new char: o\n",
      "char: d new char: g\n"
     ]
    }
   ],
   "source": [
    "text = 'Hello World'\n",
    "shift = 3\n",
    "alphabet = 'abcdefghijklmnopqrstuvwxyz'\n",
    "encrypted_text = ''\n",
    "for char in text.lower():\n",
    "    index = alphabet.find(char)\n",
    "    new_index = index + shift\n",
    "    new_char = alphabet[new_index]\n",
    "    print('char:', char, 'new char:', new_char)"
   ]
  },
  {
   "cell_type": "code",
   "execution_count": null,
   "id": "400ed452-c4cb-4ae8-8d9d-fd0454f59c88",
   "metadata": {},
   "outputs": [],
   "source": [
    "# 37 - Now, replace new_char with encrypted_text. Also, modify the print() call into print('char:', char, 'encrypted text:', encrypted_text) to reflect this change."
   ]
  },
  {
   "cell_type": "code",
   "execution_count": 2,
   "id": "cce5fea3-adbf-42eb-8177-175e62baea6c",
   "metadata": {},
   "outputs": [
    {
     "name": "stdout",
     "output_type": "stream",
     "text": [
      "char: h encrypted text: k\n",
      "char: e encrypted text: h\n",
      "char: l encrypted text: o\n",
      "char: l encrypted text: o\n",
      "char: o encrypted text: r\n",
      "char:   encrypted text: c\n",
      "char: w encrypted text: z\n",
      "char: o encrypted text: r\n",
      "char: r encrypted text: u\n",
      "char: l encrypted text: o\n",
      "char: d encrypted text: g\n"
     ]
    }
   ],
   "source": [
    "text = 'Hello World'\n",
    "shift = 3\n",
    "alphabet = 'abcdefghijklmnopqrstuvwxyz'\n",
    "encrypted_text = ''\n",
    "\n",
    "for char in text.lower():\n",
    "    index = alphabet.find(char)    \n",
    "    new_index = index + shift\n",
    "    encrypted_text = alphabet[new_index]\n",
    "    print('char:', char, 'encrypted text:', encrypted_text)"
   ]
  },
  {
   "cell_type": "code",
   "execution_count": null,
   "id": "d85d4658-d450-460f-b2db-88564ca325ee",
   "metadata": {},
   "outputs": [],
   "source": [
    "# 38 - Instead of assigning alphabet[new_index] to encrypted_text, assign the current value of encrypted_text plus alphabet[new_index] to this variable."
   ]
  },
  {
   "cell_type": "code",
   "execution_count": 18,
   "id": "5a0c4580-af3b-4735-a712-c9dfe4afca07",
   "metadata": {},
   "outputs": [
    {
     "name": "stdout",
     "output_type": "stream",
     "text": [
      "char: h encrypted text: k\n",
      "char: e encrypted text: kh\n",
      "char: l encrypted text: kho\n",
      "char: l encrypted text: khoo\n",
      "char: o encrypted text: khoor\n",
      "char:   encrypted text: khoorc\n",
      "char: w encrypted text: khoorcz\n",
      "char: o encrypted text: khoorczr\n",
      "char: r encrypted text: khoorczru\n",
      "char: l encrypted text: khoorczruo\n",
      "char: d encrypted text: khoorczruog\n"
     ]
    }
   ],
   "source": [
    "text = 'Hello World'\n",
    "shift = 3\n",
    "alphabet = 'abcdefghijklmnopqrstuvwxyz'\n",
    "encrypted_text = ''\n",
    "\n",
    "for char in text.lower():\n",
    "    index = alphabet.find(char)\n",
    "    new_index = index + shift\n",
    "    encrypted_text = encrypted_text + alphabet[new_index]\n",
    "    print('char:', char, 'encrypted text:', encrypted_text)"
   ]
  },
  {
   "cell_type": "code",
   "execution_count": null,
   "id": "262fc99e-7fb7-48b8-b8d6-19a0f3e91eda",
   "metadata": {},
   "outputs": [],
   "source": [
    "# 39 - Use the += operator to add a value and assign it at the same time to encrypted_text."
   ]
  },
  {
   "cell_type": "code",
   "execution_count": 17,
   "id": "28e9f0c6-3592-4461-9ba4-ab00b5b9c47d",
   "metadata": {},
   "outputs": [
    {
     "name": "stdout",
     "output_type": "stream",
     "text": [
      "char: h encrypted text: k\n",
      "char: e encrypted text: kh\n",
      "char: l encrypted text: kho\n",
      "char: l encrypted text: khoo\n",
      "char: o encrypted text: khoor\n",
      "char:   encrypted text: khoorc\n",
      "char: w encrypted text: khoorcz\n",
      "char: o encrypted text: khoorczr\n",
      "char: r encrypted text: khoorczru\n",
      "char: l encrypted text: khoorczruo\n",
      "char: d encrypted text: khoorczruog\n"
     ]
    }
   ],
   "source": [
    "text = 'Hello World'\n",
    "shift = 3\n",
    "alphabet = 'abcdefghijklmnopqrstuvwxyz'\n",
    "encrypted_text = ''\n",
    "\n",
    "for char in text.lower():\n",
    "    index = alphabet.find(char)\n",
    "    new_index = index + shift\n",
    "    encrypted_text += alphabet[new_index]\n",
    "    print('char:', char, 'encrypted text:', encrypted_text)"
   ]
  },
  {
   "cell_type": "code",
   "execution_count": null,
   "id": "cc0b98c9-a13e-42b2-96ff-8fe36eac62a9",
   "metadata": {},
   "outputs": [],
   "source": [
    "# 40 - At the beginning of your loop body, print the result of comparing char with a space (' '). Use the equality operator == for that."
   ]
  },
  {
   "cell_type": "code",
   "execution_count": 19,
   "id": "c00b8a93-4156-401c-b393-8c6119388db2",
   "metadata": {},
   "outputs": [
    {
     "name": "stdout",
     "output_type": "stream",
     "text": [
      "False\n",
      "char: h encrypted text: k\n",
      "False\n",
      "char: e encrypted text: kh\n",
      "False\n",
      "char: l encrypted text: kho\n",
      "False\n",
      "char: l encrypted text: khoo\n",
      "False\n",
      "char: o encrypted text: khoor\n",
      "True\n",
      "char:   encrypted text: khoorc\n",
      "False\n",
      "char: w encrypted text: khoorcz\n",
      "False\n",
      "char: o encrypted text: khoorczr\n",
      "False\n",
      "char: r encrypted text: khoorczru\n",
      "False\n",
      "char: l encrypted text: khoorczruo\n",
      "False\n",
      "char: d encrypted text: khoorczruog\n"
     ]
    }
   ],
   "source": [
    "text = 'Hello World'\n",
    "shift = 3\n",
    "alphabet = 'abcdefghijklmnopqrstuvwxyz'\n",
    "encrypted_text = ''\n",
    "\n",
    "for char in text.lower():\n",
    "    print(char == ' ')\n",
    "    index = alphabet.find(char)\n",
    "    new_index = index + shift\n",
    "    encrypted_text += alphabet[new_index]\n",
    "    print('char:', char, 'encrypted text:', encrypted_text)"
   ]
  },
  {
   "cell_type": "code",
   "execution_count": null,
   "id": "58512c45-6896-4bc2-8bb0-b7aa8bdee06c",
   "metadata": {},
   "outputs": [],
   "source": [
    "# 41 - At the top of your for loop, replace print(char == ' ') with an if statement. The condition of this if statement should evaluate to True if char is an empty space and False otherwise. Inside the if body, print the string 'space!'. Remember to indent this line."
   ]
  },
  {
   "cell_type": "code",
   "execution_count": 1,
   "id": "25b8bbd1-a98f-4e8e-a14a-192e9349edda",
   "metadata": {},
   "outputs": [
    {
     "name": "stdout",
     "output_type": "stream",
     "text": [
      "char: h encrypted text: k\n",
      "char: e encrypted text: kh\n",
      "char: l encrypted text: kho\n",
      "char: l encrypted text: khoo\n",
      "char: o encrypted text: khoor\n",
      "space!\n",
      "char:   encrypted text: khoorc\n",
      "char: w encrypted text: khoorcz\n",
      "char: o encrypted text: khoorczr\n",
      "char: r encrypted text: khoorczru\n",
      "char: l encrypted text: khoorczruo\n",
      "char: d encrypted text: khoorczruog\n"
     ]
    }
   ],
   "source": [
    "text = 'Hello World'\n",
    "shift = 3\n",
    "alphabet = 'abcdefghijklmnopqrstuvwxyz'\n",
    "encrypted_text = ''\n",
    "\n",
    "for char in text.lower():\n",
    "    if char == ' ':\n",
    "        print('space!')\n",
    "    index = alphabet.find(char)\n",
    "    new_index = index + shift\n",
    "    encrypted_text += alphabet[new_index]\n",
    "    print('char:', char, 'encrypted text:', encrypted_text)"
   ]
  },
  {
   "cell_type": "code",
   "execution_count": null,
   "id": "b65efcb4-25ac-4f60-a052-ce9447b43fae",
   "metadata": {},
   "outputs": [],
   "source": [
    "# 42 - Now, instead of printing 'space!', use the addition assignment operator to add the space (currently stored in char) to the current value of encrypted_text."
   ]
  },
  {
   "cell_type": "code",
   "execution_count": 2,
   "id": "b5e63a82-ea88-41f0-871a-153025776880",
   "metadata": {},
   "outputs": [
    {
     "name": "stdout",
     "output_type": "stream",
     "text": [
      "char: h encrypted text: k\n",
      "char: e encrypted text: kh\n",
      "char: l encrypted text: kho\n",
      "char: l encrypted text: khoo\n",
      "char: o encrypted text: khoor\n",
      "char:   encrypted text: khoor c\n",
      "char: w encrypted text: khoor cz\n",
      "char: o encrypted text: khoor czr\n",
      "char: r encrypted text: khoor czru\n",
      "char: l encrypted text: khoor czruo\n",
      "char: d encrypted text: khoor czruog\n"
     ]
    }
   ],
   "source": [
    "text = 'Hello World'\n",
    "shift = 3\n",
    "alphabet = 'abcdefghijklmnopqrstuvwxyz'\n",
    "encrypted_text = ''\n",
    "\n",
    "for char in text.lower():\n",
    "    if char == ' ':\n",
    "        encrypted_text += char\n",
    "    index = alphabet.find(char)\n",
    "    new_index = index + shift\n",
    "    encrypted_text += alphabet[new_index]\n",
    "    print('char:', char, 'encrypted text:', encrypted_text)"
   ]
  },
  {
   "cell_type": "code",
   "execution_count": null,
   "id": "843aba62-da35-4bf0-936e-60fad00e2c04",
   "metadata": {},
   "outputs": [],
   "source": [
    "# 43 - To fix it, add an else clause after encrypted_text += char and indent all the subsequent lines of code except the print() call."
   ]
  },
  {
   "cell_type": "code",
   "execution_count": 1,
   "id": "cf47c9ca-405d-41ea-ac29-3f56f7ae1590",
   "metadata": {},
   "outputs": [
    {
     "name": "stdout",
     "output_type": "stream",
     "text": [
      "char: h encrypted text: k\n",
      "char: e encrypted text: kh\n",
      "char: l encrypted text: kho\n",
      "char: l encrypted text: khoo\n",
      "char: o encrypted text: khoor\n",
      "char:   encrypted text: khoor \n",
      "char: w encrypted text: khoor z\n",
      "char: o encrypted text: khoor zr\n",
      "char: r encrypted text: khoor zru\n",
      "char: l encrypted text: khoor zruo\n",
      "char: d encrypted text: khoor zruog\n"
     ]
    }
   ],
   "source": [
    "text = 'Hello World'\n",
    "shift = 3\n",
    "alphabet = 'abcdefghijklmnopqrstuvwxyz'\n",
    "encrypted_text = ''\n",
    "\n",
    "for char in text.lower():\n",
    "    if char == ' ':\n",
    "        encrypted_text += char\n",
    "    else:\n",
    "        index = alphabet.find(char)\n",
    "        new_index = index + shift\n",
    "        encrypted_text += alphabet[new_index]\n",
    "    print('char:', char, 'encrypted text:', encrypted_text)"
   ]
  },
  {
   "cell_type": "code",
   "execution_count": null,
   "id": "72bbbe68-079e-4920-b00c-2c10e1d835ac",
   "metadata": {},
   "outputs": [],
   "source": [
    "# 44 - Try to assign the string 'Hello Zaira' to your text variable and see what happens in the terminal."
   ]
  },
  {
   "cell_type": "code",
   "execution_count": 2,
   "id": "eb10b700-1f3a-4238-aa12-1f36f6b50b4c",
   "metadata": {},
   "outputs": [
    {
     "name": "stdout",
     "output_type": "stream",
     "text": [
      "char: h encrypted text: k\n",
      "char: e encrypted text: kh\n",
      "char: l encrypted text: kho\n",
      "char: l encrypted text: khoo\n",
      "char: o encrypted text: khoor\n",
      "char:   encrypted text: khoor \n"
     ]
    },
    {
     "ename": "IndexError",
     "evalue": "string index out of range",
     "output_type": "error",
     "traceback": [
      "\u001b[31m---------------------------------------------------------------------------\u001b[39m",
      "\u001b[31mIndexError\u001b[39m                                Traceback (most recent call last)",
      "\u001b[36mCell\u001b[39m\u001b[36m \u001b[39m\u001b[32mIn[2]\u001b[39m\u001b[32m, line 12\u001b[39m\n\u001b[32m     10\u001b[39m     index = alphabet.find(char)\n\u001b[32m     11\u001b[39m     new_index = index + shift\n\u001b[32m---> \u001b[39m\u001b[32m12\u001b[39m     encrypted_text += \u001b[43malphabet\u001b[49m\u001b[43m[\u001b[49m\u001b[43mnew_index\u001b[49m\u001b[43m]\u001b[49m\n\u001b[32m     13\u001b[39m \u001b[38;5;28mprint\u001b[39m(\u001b[33m'\u001b[39m\u001b[33mchar:\u001b[39m\u001b[33m'\u001b[39m, char, \u001b[33m'\u001b[39m\u001b[33mencrypted text:\u001b[39m\u001b[33m'\u001b[39m, encrypted_text)\n",
      "\u001b[31mIndexError\u001b[39m: string index out of range"
     ]
    }
   ],
   "source": [
    "text = 'Hello Zaira'\n",
    "shift = 3\n",
    "alphabet = 'abcdefghijklmnopqrstuvwxyz'\n",
    "encrypted_text = ''\n",
    "\n",
    "for char in text.lower():\n",
    "    if char == ' ':\n",
    "        encrypted_text += char\n",
    "    else:\n",
    "        index = alphabet.find(char)\n",
    "        new_index = index + shift\n",
    "        encrypted_text += alphabet[new_index]\n",
    "    print('char:', char, 'encrypted text:', encrypted_text)"
   ]
  },
  {
   "cell_type": "code",
   "execution_count": 4,
   "id": "efa0fbc0-7fb2-4da0-a3c5-fedbb2d2f5a8",
   "metadata": {},
   "outputs": [
    {
     "name": "stdout",
     "output_type": "stream",
     "text": [
      "char: h encrypted text: k\n",
      "char: e encrypted text: kh\n",
      "char: l encrypted text: kho\n",
      "char: l encrypted text: khoo\n",
      "char: o encrypted text: khoor\n",
      "char:   encrypted text: khoor \n",
      "char: z encrypted text: khoor c\n",
      "char: a encrypted text: khoor cd\n",
      "char: i encrypted text: khoor cdl\n",
      "char: r encrypted text: khoor cdlu\n",
      "char: a encrypted text: khoor cdlud\n"
     ]
    }
   ],
   "source": [
    "# 45 - Surround index + shift with parentheses, and modulo the expression with 26, which is the alphabet length.\n",
    "\n",
    "text = 'Hello Zaira'\n",
    "shift = 3\n",
    "alphabet = 'abcdefghijklmnopqrstuvwxyz'\n",
    "encrypted_text = ''\n",
    "\n",
    "for char in text.lower():\n",
    "    if char == ' ':\n",
    "        encrypted_text += char\n",
    "    else:\n",
    "        index = alphabet.find(char)\n",
    "        new_index = (index + shift) % 26\n",
    "        encrypted_text += alphabet[new_index]\n",
    "    print('char:', char, 'encrypted text:', encrypted_text)"
   ]
  },
  {
   "cell_type": "code",
   "execution_count": 5,
   "id": "833baa90-d1b0-4ce1-888d-f8e3181a5226",
   "metadata": {},
   "outputs": [
    {
     "name": "stdout",
     "output_type": "stream",
     "text": [
      "char: h encrypted text: k\n",
      "char: e encrypted text: kh\n",
      "char: l encrypted text: kho\n",
      "char: l encrypted text: khoo\n",
      "char: o encrypted text: khoor\n",
      "char:   encrypted text: khoor \n",
      "char: z encrypted text: khoor c\n",
      "char: a encrypted text: khoor cd\n",
      "char: i encrypted text: khoor cdl\n",
      "char: r encrypted text: khoor cdlu\n",
      "char: a encrypted text: khoor cdlud\n"
     ]
    }
   ],
   "source": [
    "# 46 - Replace 26 with len(alphabet) to avoid this issue.\n",
    "\n",
    "text = 'Hello Zaira'\n",
    "shift = 3\n",
    "alphabet = 'abcdefghijklmnopqrstuvwxyz'\n",
    "encrypted_text = ''\n",
    "\n",
    "for char in text.lower():\n",
    "    if char == ' ':\n",
    "        encrypted_text += char\n",
    "    else:\n",
    "        index = alphabet.find(char)\n",
    "        new_index = (index + shift) % len(alphabet)\n",
    "        encrypted_text += alphabet[new_index]\n",
    "    print('char:', char, 'encrypted text:', encrypted_text)"
   ]
  },
  {
   "cell_type": "code",
   "execution_count": 6,
   "id": "a5b252c4-bc13-4aaf-94f2-cb68f97ef502",
   "metadata": {},
   "outputs": [
    {
     "name": "stdout",
     "output_type": "stream",
     "text": [
      "encrypted text: khoor cdlud\n"
     ]
    }
   ],
   "source": [
    "# 47 - Next, modify your print() call to print 'encrypted text:', encrypted_text and put it outside the for loop, so that the encrypted string is printed one time.\n",
    "\n",
    "text = 'Hello Zaira'\n",
    "shift = 3\n",
    "alphabet = 'abcdefghijklmnopqrstuvwxyz'\n",
    "encrypted_text = ''\n",
    "\n",
    "for char in text.lower():\n",
    "    if char == ' ':\n",
    "        encrypted_text += char\n",
    "    else:\n",
    "        index = alphabet.find(char)\n",
    "        new_index = (index + shift) % len(alphabet)\n",
    "        encrypted_text += alphabet[new_index]\n",
    "print('encrypted text:', encrypted_text)"
   ]
  },
  {
   "cell_type": "code",
   "execution_count": 7,
   "id": "e52e0556-0935-4f4a-9776-ed5f0147ea31",
   "metadata": {},
   "outputs": [
    {
     "name": "stdout",
     "output_type": "stream",
     "text": [
      "plain text: Hello Zaira\n",
      "encrypted text: khoor cdlud\n"
     ]
    }
   ],
   "source": [
    "# 48 - Right before the print call, add another one and pass 'plain text:', text as the arguments to print(). Use the same indentation.\n",
    "\n",
    "text = 'Hello Zaira'\n",
    "shift = 3\n",
    "alphabet = 'abcdefghijklmnopqrstuvwxyz'\n",
    "encrypted_text = ''\n",
    "\n",
    "for char in text.lower():\n",
    "    if char == ' ':\n",
    "        encrypted_text += char\n",
    "    else:\n",
    "        index = alphabet.find(char)\n",
    "        new_index = (index + shift) % len(alphabet)\n",
    "        encrypted_text += alphabet[new_index]\n",
    "print('plain text:', text)\n",
    "print('encrypted text:', encrypted_text)"
   ]
  },
  {
   "cell_type": "code",
   "execution_count": null,
   "id": "360089f0-cdad-49ac-afe9-1cde344d49f7",
   "metadata": {},
   "outputs": [],
   "source": []
  },
  {
   "cell_type": "code",
   "execution_count": null,
   "id": "acb27560-e973-4a4a-b1b4-a45ccc131b0b",
   "metadata": {},
   "outputs": [],
   "source": []
  },
  {
   "cell_type": "code",
   "execution_count": null,
   "id": "188f1e30-e370-4f09-8ec2-e3706c843d41",
   "metadata": {},
   "outputs": [],
   "source": []
  },
  {
   "cell_type": "code",
   "execution_count": null,
   "id": "aa842686-1198-4297-8cca-cac181b9aafc",
   "metadata": {},
   "outputs": [],
   "source": []
  },
  {
   "cell_type": "code",
   "execution_count": null,
   "id": "6479cb92-df15-454c-9bec-36df5acd5556",
   "metadata": {},
   "outputs": [],
   "source": [
    "# 60 - "
   ]
  },
  {
   "cell_type": "code",
   "execution_count": null,
   "id": "fb83b1c7-0995-47c1-807e-ed28a05f4c7f",
   "metadata": {},
   "outputs": [],
   "source": []
  },
  {
   "cell_type": "code",
   "execution_count": null,
   "id": "0ef6c64a-7b5b-4765-b2e4-710c009d39b4",
   "metadata": {},
   "outputs": [],
   "source": [
    "# 61 - "
   ]
  },
  {
   "cell_type": "code",
   "execution_count": null,
   "id": "336e2450-f50e-4e71-9b16-edf938297458",
   "metadata": {},
   "outputs": [],
   "source": []
  },
  {
   "cell_type": "code",
   "execution_count": null,
   "id": "1c17ff82-12c6-4780-a590-50cc3dd0950a",
   "metadata": {},
   "outputs": [],
   "source": [
    "# 62 - "
   ]
  },
  {
   "cell_type": "code",
   "execution_count": null,
   "id": "b32e1f0a-460b-4e57-a904-567a9b09736e",
   "metadata": {},
   "outputs": [],
   "source": []
  },
  {
   "cell_type": "code",
   "execution_count": null,
   "id": "f0c6e6f0-6dd6-45e6-9ddc-2e2eafaf43b1",
   "metadata": {},
   "outputs": [],
   "source": [
    "# 63 - "
   ]
  },
  {
   "cell_type": "code",
   "execution_count": null,
   "id": "d728b3e8-2771-446a-984a-01631e044969",
   "metadata": {},
   "outputs": [],
   "source": []
  }
 ],
 "metadata": {
  "kernelspec": {
   "display_name": "Python 3 (ipykernel)",
   "language": "python",
   "name": "python3"
  },
  "language_info": {
   "codemirror_mode": {
    "name": "ipython",
    "version": 3
   },
   "file_extension": ".py",
   "mimetype": "text/x-python",
   "name": "python",
   "nbconvert_exporter": "python",
   "pygments_lexer": "ipython3",
   "version": "3.13.4"
  }
 },
 "nbformat": 4,
 "nbformat_minor": 5
}
