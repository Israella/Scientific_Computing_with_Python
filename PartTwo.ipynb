{
 "cells": [
  {
   "cell_type": "code",
   "execution_count": 1,
   "id": "99e6919b-e51f-44ec-82f2-9b62329fb4e3",
   "metadata": {},
   "outputs": [],
   "source": [
    "# 32 - Go back to the original string by deleting the text reassignment."
   ]
  },
  {
   "cell_type": "code",
   "execution_count": 2,
   "id": "5964a541-fc4f-42eb-b777-aa5fc265fe8a",
   "metadata": {},
   "outputs": [],
   "source": [
    "text = 'Hello World'"
   ]
  },
  {
   "cell_type": "code",
   "execution_count": 3,
   "id": "08e13536-1f61-423a-810b-29b4ac5e5346",
   "metadata": {},
   "outputs": [],
   "source": [
    "# 33 - Now you need to create a new_char variable at the end of your loop body. Set its value to alphabet[new_index]."
   ]
  },
  {
   "cell_type": "code",
   "execution_count": 4,
   "id": "1bc0b1d7-7160-4d03-bc4b-0b5140c93a4e",
   "metadata": {},
   "outputs": [
    {
     "name": "stdout",
     "output_type": "stream",
     "text": [
      "h 7\n",
      "e 4\n",
      "l 11\n",
      "l 11\n",
      "o 14\n",
      "  -1\n",
      "w 22\n",
      "o 14\n",
      "r 17\n",
      "l 11\n",
      "d 3\n"
     ]
    }
   ],
   "source": [
    "text = 'Hello World'\n",
    "shift = 3\n",
    "alphabet = 'abcdefghijklmnopqrstuvwxyz'\n",
    "\n",
    "for char in text.lower():\n",
    "    index = alphabet.find(char)\n",
    "    print(char, index)\n",
    "    new_index = index + shift\n",
    "    new_char = alphabet[new_index]"
   ]
  },
  {
   "cell_type": "code",
   "execution_count": null,
   "id": "50e93446-3d93-4204-a6f2-a10eaa16a98b",
   "metadata": {},
   "outputs": [],
   "source": []
  }
 ],
 "metadata": {
  "kernelspec": {
   "display_name": "Python 3 (ipykernel)",
   "language": "python",
   "name": "python3"
  },
  "language_info": {
   "codemirror_mode": {
    "name": "ipython",
    "version": 3
   },
   "file_extension": ".py",
   "mimetype": "text/x-python",
   "name": "python",
   "nbconvert_exporter": "python",
   "pygments_lexer": "ipython3",
   "version": "3.13.4"
  }
 },
 "nbformat": 4,
 "nbformat_minor": 5
}
